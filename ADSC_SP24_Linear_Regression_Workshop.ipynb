{
  "nbformat": 4,
  "nbformat_minor": 0,
  "metadata": {
    "colab": {
      "provenance": [],
      "collapsed_sections": [
        "LcdMYBO6zC9e"
      ]
    },
    "kernelspec": {
      "name": "python3",
      "display_name": "Python 3"
    },
    "language_info": {
      "name": "python"
    }
  },
  "cells": [
    {
      "cell_type": "code",
      "source": [
        "# EVERYONE RUN BEFORE\n",
        "\n",
        "from google.colab import drive\n",
        "drive.mount('/content/drive')"
      ],
      "metadata": {
        "id": "FlMnf0bw6QY7"
      },
      "execution_count": null,
      "outputs": []
    },
    {
      "cell_type": "code",
      "source": [
        "cd drive/MyDrive/Regression\\ Workshop"
      ],
      "metadata": {
        "id": "dgcfs1dC6YeS"
      },
      "execution_count": null,
      "outputs": []
    },
    {
      "cell_type": "code",
      "source": [
        "import pandas as pd\n",
        "\n",
        "data = pd.read_csv(\"Salary_Prediction_dataset_exported.csv\")\n",
        "\n",
        "data.dropna(inplace=True)\n",
        "\n",
        "data.head()"
      ],
      "metadata": {
        "id": "KqLfX3vo6eZz"
      },
      "execution_count": null,
      "outputs": []
    },
    {
      "cell_type": "code",
      "source": [
        "# check that data has 373 rows\n",
        "\n",
        "data.shape"
      ],
      "metadata": {
        "id": "aFG8y_ja6lF8"
      },
      "execution_count": null,
      "outputs": []
    },
    {
      "cell_type": "markdown",
      "source": [
        "## **Checkpoint #1: *Visualize the Correlations between Predictor Variables and Salary***\n"
      ],
      "metadata": {
        "id": "Lux6omHu0liz"
      }
    },
    {
      "cell_type": "markdown",
      "source": [
        "***Scatterplot for Age and Years of Experience***\n",
        "\n",
        "Compare a numerical variable to the salary. In this case, we want to see the relationship between the years of experience you have and how it correlates to your salary.\n",
        "\n",
        "```\n",
        "plt.figure(figsize=(10, 6))\n",
        "\n",
        "plt.scatter(data['replace this with the predictor variable column name '], data['put the target variable column name here'], color='blue')\n",
        "\n",
        "plt.xlabel('determine what column name needs to be put here')\n",
        "plt.ylabel('determine what column name needs to be put here')\n",
        "plt.title('Scatterplot of Salary vs Years of Experience')\n",
        "plt.show()\n",
        "```"
      ],
      "metadata": {
        "id": "NWz26Qd18STx"
      }
    },
    {
      "cell_type": "code",
      "source": [
        "#Copy the code above and adjust it accordingly."
      ],
      "metadata": {
        "id": "hFhPP20--Ohk"
      },
      "execution_count": null,
      "outputs": []
    },
    {
      "cell_type": "markdown",
      "source": [
        "***Boxplot to visualize the correlation between Categorical Variables and Salary***\n",
        "\n",
        "Ensure the 'predictor variable column name ' is categorical.\n",
        "\n",
        "We want you to visualize the difference in salaries based on education levels (Bachelors, Masters, PhD).\n",
        "\n",
        "```\n",
        "data['replace this with the correct column name'] = pd.Categorical(data['replace this with the correct column name'], categories=['Bachelor\\'s', 'Master\\'s', 'PhD'], ordered=True)\n",
        "```"
      ],
      "metadata": {
        "id": "fsl2WiJr05t0"
      }
    },
    {
      "cell_type": "code",
      "source": [
        "#Copy the code above and adjust it accordingly."
      ],
      "metadata": {
        "id": "poNxnHV-1aYc"
      },
      "execution_count": null,
      "outputs": []
    },
    {
      "cell_type": "markdown",
      "source": [
        "Now we can create the boxplot. Here is some example code. Copy it into the cell below and modify it so that it compares Education Level and Salary.\n",
        "\n",
        "```\n",
        "plt.figure(figsize=(10, 6))\n",
        "\n",
        "sns.boxplot(x='replace with correct column name', y='replace with correct column name', data=data)\n",
        "\n",
        "plt.title('Salary Distribution by Education Level (Boxplot)')\n",
        "\n",
        "plt.show()\n",
        "```\n",
        "\n"
      ],
      "metadata": {
        "id": "p-v91fsR1n1J"
      }
    },
    {
      "cell_type": "code",
      "source": [
        "# Copy the code above and adjust it accordingly."
      ],
      "metadata": {
        "id": "DTSWaV1J1qAM"
      },
      "execution_count": null,
      "outputs": []
    },
    {
      "cell_type": "markdown",
      "source": [
        "**Make another Boxplot but Gender is the Predictor Variable**\n",
        "\n",
        "Use the code we used to make a boxplot comparing years of experience to salary. Chnage the predictor variable to gender in the necessary places."
      ],
      "metadata": {
        "id": "ZC96JHEc1t-D"
      }
    },
    {
      "cell_type": "code",
      "source": [
        "#Put your code here."
      ],
      "metadata": {
        "id": "PhD_ZbZ71si4"
      },
      "execution_count": null,
      "outputs": []
    },
    {
      "cell_type": "markdown",
      "source": [
        "**Have your answers ready? Go to Neha to show your graphs and guess which attribute seems to have the strongest relationship!**"
      ],
      "metadata": {
        "id": "3oRi0QGQ2ryJ"
      }
    },
    {
      "cell_type": "code",
      "source": [
        "print(\"The attribute with the best relationship with Salary is\")\n",
        "print(\"\\tPUT YOUR ANSWER HERE\")"
      ],
      "metadata": {
        "colab": {
          "base_uri": "https://localhost:8080/"
        },
        "id": "U2tTA-V53AYp",
        "outputId": "bf98e497-1280-42e3-e3d9-c63fce20e64c"
      },
      "execution_count": null,
      "outputs": [
        {
          "output_type": "stream",
          "name": "stdout",
          "text": [
            "The attribute with the best relationship with Salary is\n",
            "\tPUT YOUR ANSWER HERE\n"
          ]
        }
      ]
    },
    {
      "cell_type": "markdown",
      "source": [
        "**Congratulations!**\n",
        "\n",
        " You completed the first checkpoint!\n",
        "\n",
        " Go check it with one of the workshops officers and tell them which visual looks the best and has the strongest correlation.\n",
        " You will confirm this in the next checkpoint.\n",
        "  The first team to win will receive gift card prizes!"
      ],
      "metadata": {
        "id": "22CHk9TS2K0j"
      }
    },
    {
      "cell_type": "markdown",
      "source": [
        "### Need Help with Checkpoint 1?\n",
        "\n",
        "View the dataset that we are using so you can see the names of the columns. In this checkpoint, we're trying to create visualizations comparing a predictor variable to the target variable. Our target variable is salary. If you have trouble making your code run, make sure the column names are written exactly like they are in the dataset."
      ],
      "metadata": {
        "id": "9nmAIy562Snj"
      }
    },
    {
      "cell_type": "markdown",
      "source": [
        "## **Checkpoint 2: *\\\"Find the best correlation\\\"***\n",
        "\n",
        "Given a dataset that contains information on age, gender, education level, job title, years of experience, and salary, we want to use a correlation matrix to find out which variables actually have the best correlation to salary.\n",
        "\n",
        "A correlation matrix displays the correlation coefficients between variables, ranging from -1 (perfect negative correlation) to 1 (perfect positive correlation), with 0 indicating no correlation. It's used to assess the linear relationships between variables in fields like finance and economics. The diagonal always shows 1s, representing each variable's perfect correlation with itself."
      ],
      "metadata": {
        "id": "zjfRhTIox6Lz"
      }
    },
    {
      "cell_type": "code",
      "source": [
        "file_name = 'Salary Prediction dataset_exported.csv'\n",
        "data = pd.read_csv(file_name)"
      ],
      "metadata": {
        "id": "IK5-OyMax7bg"
      },
      "execution_count": null,
      "outputs": []
    },
    {
      "cell_type": "markdown",
      "source": [
        "Use pandas to find the best correlation with salary.\n",
        "\n",
        "To start what are the variables we want to look at among Age, Gender, Education, Job title, Years of experience, and Salary?"
      ],
      "metadata": {
        "id": "pKtZaZlzyCjD"
      }
    },
    {
      "cell_type": "code",
      "source": [
        "# we want to look at quantitative variables when doing our correlation. What are the data types we want?\n",
        "\n",
        "quantitative_vars = data.select_dtypes(include=['replace with correct data type', 'replace with correct data type']).columns.tolist()\n",
        "\n",
        "quantitative_vars"
      ],
      "metadata": {
        "id": "ba1UdjCjyGvd"
      },
      "execution_count": null,
      "outputs": []
    },
    {
      "cell_type": "markdown",
      "source": [
        "Education level can also be relabeled to be a quantitative variable. How would we do this?\n",
        "\n"
      ],
      "metadata": {
        "id": "cuNNA728yZlU"
      }
    },
    {
      "cell_type": "code",
      "source": [
        "# Assign a mapping for the education levels. Hint: should be numeric\n",
        "education_mapping = {\n",
        "    \"Associate's\": ,\n",
        "    \"Bachelor's\": ,\n",
        "    \"Master's\": ,\n",
        "    \"PhD\":\n",
        "}\n",
        "\n",
        "data['Education Level Quantitative'] = data['Education Level'].map(education_mapping)\n",
        "\n",
        "unmapped_education_levels = data[data['Education Level Quantitative'].isnull()]['Education Level'].unique()\n",
        "\n",
        "# Display the first few rows to verify the changes and the unmapped education levels, if any\n",
        "data.head(), unmapped_education_levels"
      ],
      "metadata": {
        "id": "4sGQV3YKyaGY"
      },
      "execution_count": null,
      "outputs": []
    },
    {
      "cell_type": "markdown",
      "source": [
        "NOTE: The new column for education level (quantitative) is called \"Education level Quantitative\""
      ],
      "metadata": {
        "id": "6MAXiB1ByhoW"
      }
    },
    {
      "cell_type": "markdown",
      "source": [
        "Now that we know what variables we are using, use a correlation matrix to find the best correlations"
      ],
      "metadata": {
        "id": "raNFK1JIyks2"
      }
    },
    {
      "cell_type": "code",
      "source": [
        "# replace with the variables you want to use\n",
        "# how many variables are we using and which ones?\n",
        "\n",
        "correlation_matrix = data[['Replace me', 'Replace me', 'Replace me', 'Replace me', 'Replace me']].corr()\n",
        "correlation_matrix['Salary']"
      ],
      "metadata": {
        "id": "YWo3kINxym37"
      },
      "execution_count": null,
      "outputs": []
    },
    {
      "cell_type": "markdown",
      "source": [
        "From the correlation matrix, what is the strongest correlations? What do these numbers mean?"
      ],
      "metadata": {
        "id": "xrGCOAtcysiq"
      }
    },
    {
      "cell_type": "markdown",
      "source": [
        "Once you have your answer, you have completed this checkpoint!"
      ],
      "metadata": {
        "id": "gKmojrtMytLo"
      }
    },
    {
      "cell_type": "markdown",
      "source": [
        "## **Checkpoint #3: *\\\"Find the wage gap!\\\"***\n",
        "\n",
        "For this checkpoint first find out which gender makes more money on average. Than find out how much more they make over the opposite gender on average.\n",
        "\n",
        "The steps we will take to solve this problem are\n",
        "1. Find out how much both genders make on average\n",
        "2. Find the difference between them\n",
        "\n",
        "Good luck!\n"
      ],
      "metadata": {
        "id": "K7XPm7RRyy_c"
      }
    },
    {
      "cell_type": "code",
      "source": [
        "# filter the dataset for women\n",
        "females_data ="
      ],
      "metadata": {
        "id": "Yv6rCAO9y26L"
      },
      "execution_count": null,
      "outputs": []
    },
    {
      "cell_type": "markdown",
      "source": [
        "### Need Help?"
      ],
      "metadata": {
        "id": "XrXJPKSwyy95"
      }
    },
    {
      "cell_type": "code",
      "source": [
        "# here is how you would filter the dataset for a specific job title\n",
        "job = data[data['Job Title'] == 'Software Engineer']\n",
        "\n",
        "job"
      ],
      "metadata": {
        "id": "Q8jctUuRy7j0"
      },
      "execution_count": null,
      "outputs": []
    },
    {
      "cell_type": "markdown",
      "source": [
        "### Finding average"
      ],
      "metadata": {
        "id": "mHR67Apsy-10"
      }
    },
    {
      "cell_type": "code",
      "source": [
        "# Calculate the average salary for females\n",
        "average_salary_females ="
      ],
      "metadata": {
        "id": "2YU9pAXoyu_Q"
      },
      "execution_count": null,
      "outputs": []
    },
    {
      "cell_type": "markdown",
      "source": [
        "###Need Help?"
      ],
      "metadata": {
        "id": "LcdMYBO6zC9e"
      }
    },
    {
      "cell_type": "code",
      "source": [
        "# use the mean function to find the mean\n",
        "\n",
        "avg_swe_income = job['Salary'].mean()\n",
        "\n",
        "avg_swe_income # there is only 1 entry here :("
      ],
      "metadata": {
        "id": "pdG8m-VmzDc3"
      },
      "execution_count": null,
      "outputs": []
    },
    {
      "cell_type": "code",
      "source": [
        "# Print the average salary for females\n",
        "print(\"Average Salary for Females:\", round(average_salary_females, 2))"
      ],
      "metadata": {
        "id": "76DkLCbrzE11"
      },
      "execution_count": null,
      "outputs": []
    },
    {
      "cell_type": "markdown",
      "source": [
        "### Do the same thing for men on your own"
      ],
      "metadata": {
        "id": "lsTQd4SPzTFI"
      }
    },
    {
      "cell_type": "code",
      "source": [
        "# your code here\n",
        "\n"
      ],
      "metadata": {
        "id": "zAn9vUwsyiDc"
      },
      "execution_count": null,
      "outputs": []
    },
    {
      "cell_type": "markdown",
      "source": [
        "###Find the difference"
      ],
      "metadata": {
        "id": "X3TA4TquzYWy"
      }
    },
    {
      "cell_type": "code",
      "source": [
        "# your code here"
      ],
      "metadata": {
        "id": "mMkragrozdK_"
      },
      "execution_count": null,
      "outputs": []
    },
    {
      "cell_type": "markdown",
      "source": [
        "After you have found which gender makes more on average and by how much you have completed this checkpoint"
      ],
      "metadata": {
        "id": "YRX32bSazxqP"
      }
    },
    {
      "cell_type": "markdown",
      "source": [
        "## **Checkpoint #4: *Does the shoe fit?***\n",
        "\n",
        "We have seen visual representations and numbers about individual relationships. But what if we combine the features together? This is where Linear Regression ML comes in!\n",
        "\n",
        "In order to perform the Linear Regression, we need to prepare our predictors and response variables, especially the categorical features. Then, we can split the data into train and test, and we can finally perform the ML. We will use Numpy and sklearn.\n",
        "\n",
        "Look at what you'll have to deliver to finish the checkpoint at the end of this section!"
      ],
      "metadata": {
        "id": "beQhM4RTOtZK"
      }
    },
    {
      "cell_type": "code",
      "execution_count": null,
      "metadata": {
        "id": "6pMeakXBOgoC"
      },
      "outputs": [],
      "source": [
        "# put imports here\n",
        "...\n",
        "...\n",
        "\n",
        "# set the response (y) variable\n",
        "y = ...\n",
        "\n",
        "# select quantitative predictor features\n",
        "x_quant = ...\n",
        "\n",
        "# select ordinal categorical predictor features (should already be encoded in previous checkpoint)\n",
        "x_ord = ...\n",
        "\n",
        "# encode and select nominal categorical predictor features (IGNORE JOB_TITLE)\n",
        "x_nom = ...\n",
        "...               # create and fit encoder\n",
        "x_cat = ...       # convert to array\n",
        "\n",
        "# concatenate all predictor features into a single covariate array x\n",
        "x = ...\n"
      ]
    },
    {
      "cell_type": "code",
      "source": [
        "# put import here\n",
        "...\n",
        "\n",
        "# split response and predictor data\n",
        "# use an 80/20 split\n",
        "# MAKE SURE TO USE random_state=42\n",
        "..."
      ],
      "metadata": {
        "id": "IhmQwg4dOBDd"
      },
      "execution_count": null,
      "outputs": []
    },
    {
      "cell_type": "code",
      "source": [
        "# put import here\n",
        "...\n",
        "\n",
        "# ensure all data are Numpy arrays (not needed but nice)\n",
        "x_train = ...\n",
        "y_train = ...\n",
        "x_test = ...\n",
        "y_test = ...\n",
        "\n",
        "# create, fit, and predict using linear regression\n",
        "lm = ...\n",
        "...\n",
        "yhat_test = ..."
      ],
      "metadata": {
        "id": "GYwcXqrLO7Y9"
      },
      "execution_count": null,
      "outputs": []
    },
    {
      "cell_type": "code",
      "source": [
        "# calculate MSE and R^2\n",
        "MSE = ...\n",
        "R2 = ..."
      ],
      "metadata": {
        "id": "gerHPlJpP5Fi"
      },
      "execution_count": null,
      "outputs": []
    },
    {
      "cell_type": "code",
      "source": [
        "# PRESENT ANSWERS TO FRONT TABLE\n",
        "# NUMBER MUST MATCH EXACTLY\n",
        "# NEED TO HAVE GOOD CONCLUSION\n",
        "\n",
        "print('MSE -', MSE)\n",
        "print('R2 - ', R2)\n",
        "\n",
        "print()\n",
        "\n",
        "print(\"How strong is the model?\")\n",
        "print(\"\\tPUT YOUR CONCLUSION HERE\")"
      ],
      "metadata": {
        "id": "vyjIPg9QPqbI",
        "colab": {
          "base_uri": "https://localhost:8080/"
        },
        "outputId": "c6b88e45-5875-42b1-b8b8-7dcd3ea89778"
      },
      "execution_count": null,
      "outputs": [
        {
          "output_type": "stream",
          "name": "stdout",
          "text": [
            "MSE - Ellipsis\n",
            "R2 -  Ellipsis\n",
            "\n",
            "How strong is the model?\n",
            "\tPUT YOUR CONCLUSION HERE\n"
          ]
        }
      ]
    },
    {
      "cell_type": "markdown",
      "source": [
        "### Need Help?"
      ],
      "metadata": {
        "id": "eRUsq7upPgEY"
      }
    },
    {
      "cell_type": "markdown",
      "source": [
        "**Preparing Predictors and Response Variables**\n",
        "\n",
        "```\n",
        "# select quantitative features\n",
        "x_quant = data.loc[:, <list of strings of each attribute>]\n",
        "\n",
        "# ordinal (already encoded)\n",
        "data[<string of attribute>].replace(to_replace=<dict of substitutions>, inplace=True)\n",
        "x_ord = data.loc[:, <list of strings of each attribute>]\n",
        "\n",
        "# encode categorical features\n",
        "x_nom = data.loc[:, <list of strings of each attribute>]\n",
        "enc = OneHotEncoder()\n",
        "enc.fit(<df of nominal variables>)\n",
        "x_cat = enc.transform(<df of nominal variables>).toarray()\n",
        "\n",
        "# concatenate all features into a single covariate array x\n",
        "x = np.hstack(<list of each type's attribute list (like each x_?)>)\n",
        "```\n",
        "\n",
        "\n",
        "**Splitting the Data**\n",
        "\n",
        "Look at `train_test_split`. Make sure to import the library and use the correct parameters.\n",
        "\n",
        "**Running the Model**\n",
        "\n",
        "Use Numpy array conversion for the first part. Then, instantiate a LinearRegression object from sklearn (search up). Next, fit the ```lm``` object on the training `x` and `y` datasets. Finally, predict the outputs given the testing `y` dataset (use `predict`).\n",
        "\n",
        "\n",
        "**Evaluation Metrics**\n",
        "\n",
        "Remember the formula for MSE:\n",
        "$$ MSE = \\frac{1}{n} \\sum^{n}_{i=1}{(y_i - \\hat{y}_i)^2}$$\n",
        "Therefore, you need to compute the predicted values $\\hat{y}_i$ and plug them into this formula. Consider using Numpy functions and arrays. For $R^2$, consider looking into the score function given by the LinearRegression class.\n",
        "\n"
      ],
      "metadata": {
        "id": "32BJnhT_PlQS"
      }
    },
    {
      "cell_type": "markdown",
      "source": [
        "## **Extras**"
      ],
      "metadata": {
        "id": "0CNG3YqD5evh"
      }
    },
    {
      "cell_type": "markdown",
      "source": [
        "**Plotting the results**\n",
        "\n",
        "```\n",
        "plt.scatter(x_test, y_test, color='blue')  # Actual data points\n",
        "\n",
        "plt.plot(x_test, yhat_test, color='red', linewidth=2)  # Regression line\n",
        "\n",
        "plt.xlabel('replace this with the predictor variable column name here')\n",
        "\n",
        "plt.ylabel('replace this with the target variable column name')\n",
        "\n",
        "plt.title(f' (target variable column name ) vs {predictor_var} with Linear Regression Line')\n",
        "\n",
        "plt.show()\n",
        "```"
      ],
      "metadata": {
        "id": "oF8KNMFl5Yzs"
      }
    },
    {
      "cell_type": "code",
      "source": [
        "#Copy the code above and adjust it accordingly."
      ],
      "metadata": {
        "id": "lTeiAeev5r9C"
      },
      "execution_count": null,
      "outputs": []
    }
  ]
}